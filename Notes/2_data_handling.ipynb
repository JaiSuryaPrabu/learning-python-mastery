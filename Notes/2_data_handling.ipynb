{
 "cells": [
  {
   "cell_type": "markdown",
   "metadata": {},
   "source": [
    "# Data Structures"
   ]
  },
  {
   "cell_type": "markdown",
   "metadata": {},
   "source": [
    "1. Tuples\n",
    "2. Dictionary\n",
    "3. Class"
   ]
  },
  {
   "cell_type": "markdown",
   "metadata": {},
   "source": [
    "## Classes\n",
    "Some variants in class :\n",
    "1. Slots - Saves memory\n",
    "2. DataClasses- Reduce coding\n",
    "3. Named Tuples - Immutability behaviour"
   ]
  },
  {
   "cell_type": "markdown",
   "metadata": {},
   "source": [
    "### Slots\n",
    "\n",
    "For data structure use `__slots__` to save memory"
   ]
  },
  {
   "cell_type": "code",
   "execution_count": 3,
   "metadata": {},
   "outputs": [
    {
     "data": {
      "text/plain": [
       "('GOOG', 440.1, 100)"
      ]
     },
     "execution_count": 3,
     "metadata": {},
     "output_type": "execute_result"
    }
   ],
   "source": [
    "class Stock:\n",
    "    __slots__ = ('name','shares','price') # used for performance optimization\n",
    "    def __init__(self,name,shares,price):\n",
    "        self.name = name\n",
    "        self.shares = shares\n",
    "        self.price = price\n",
    "\n",
    "s = Stock('GOOG',100,440.10)\n",
    "s.name,s.price,s.shares"
   ]
  },
  {
   "cell_type": "markdown",
   "metadata": {},
   "source": [
    "### Dataclasses\n",
    "`dataclass` is a decorator in python and it automatically generates special methods like `__init__()`,`__repr__()` and `__eq__()` for user defined classes."
   ]
  },
  {
   "cell_type": "code",
   "execution_count": 4,
   "metadata": {},
   "outputs": [
    {
     "data": {
      "text/plain": [
       "Person(name='HE', age=10)"
      ]
     },
     "execution_count": 4,
     "metadata": {},
     "output_type": "execute_result"
    }
   ],
   "source": [
    "from dataclasses import dataclass\n",
    "\n",
    "@dataclass\n",
    "class Person:\n",
    "    name : str\n",
    "    age : int\n",
    "\n",
    "p = Person(name=\"HE\",age=10)\n",
    "p"
   ]
  },
  {
   "cell_type": "markdown",
   "metadata": {},
   "source": [
    "### Named Tuples\n",
    "There are two types of named tuples"
   ]
  },
  {
   "cell_type": "markdown",
   "metadata": {},
   "source": [
    "\n",
    "#### From `typing` class\n",
    "It provides *type hints*, you can access the immutable data structure with name fields."
   ]
  },
  {
   "cell_type": "code",
   "execution_count": null,
   "metadata": {},
   "outputs": [],
   "source": [
    "!pip install typing"
   ]
  },
  {
   "cell_type": "code",
   "execution_count": 9,
   "metadata": {},
   "outputs": [
    {
     "data": {
      "text/plain": [
       "Person(name='HE', age=10)"
      ]
     },
     "execution_count": 9,
     "metadata": {},
     "output_type": "execute_result"
    }
   ],
   "source": [
    "\n",
    "from typing import NamedTuple\n",
    "\n",
    "class Person(NamedTuple):\n",
    "    name : str\n",
    "    age : int\n",
    "\n",
    "p = Person(name=\"HE\",age=10)\n",
    "p"
   ]
  },
  {
   "cell_type": "markdown",
   "metadata": {},
   "source": [
    "#### From `collections`"
   ]
  },
  {
   "cell_type": "code",
   "execution_count": 10,
   "metadata": {},
   "outputs": [
    {
     "data": {
      "text/plain": [
       "Person(name='HE', age=10)"
      ]
     },
     "execution_count": 10,
     "metadata": {},
     "output_type": "execute_result"
    }
   ],
   "source": [
    "from collections import namedtuple\n",
    "\n",
    "Person = namedtuple('Person',['name','age']) # class\n",
    "s = Person(\"HE\",10)\n",
    "s"
   ]
  },
  {
   "cell_type": "markdown",
   "metadata": {},
   "source": [
    "### Exercise 2.1"
   ]
  },
  {
   "cell_type": "markdown",
   "metadata": {},
   "source": [
    "*Objectives:*\n",
    "\n",
    "- Figure out the most memory-efficient way to store a lot of data.\n",
    "- Learn about different ways of representing records including tuples,\n",
    "dictionaries, classes, and named tuples.\n",
    "\n",
    "In this exercise, we look at different choices for representing data\n",
    "structures with an eye towards memory use and efficiency.  A lot of\n",
    "people use Python to perform various kinds of data analysis so knowing\n",
    "about different options and their tradeoffs is useful information."
   ]
  },
  {
   "cell_type": "markdown",
   "metadata": {},
   "source": [
    "\n",
    "#### (a) Stuck on the bus\n",
    "\n",
    "The file `Data/ctabus.csv` is a CSV file containing\n",
    "daily ridership data for the Chicago Transit Authority (CTA) bus\n",
    "system from January 1, 2001 to August 31, 2013.  It contains\n",
    "approximately 577000 rows of data.  Use Python to view a few lines\n",
    "of data to see what it looks like:\n",
    "\n",
    "```python\n",
    ">>> f = open('Data/ctabus.csv')\n",
    ">>> next(f)\n",
    "'route,date,daytype,rides\\n'\n",
    ">>> next(f)\n",
    "'3,01/01/2001,U,7354\\n'\n",
    ">>> next(f)\n",
    "'4,01/01/2001,U,9288\\n'\n",
    ">>>\n",
    "```\n",
    "\n",
    "There are 4 columns of data.\n",
    "\n",
    "- route: Column 0.  The bus route name.\n",
    "- date: Column 1.  A date string of the form MM/DD/YYYY.\n",
    "- daytype: Column 2. A day type code (U=Sunday/Holiday, A=Saturday, W=Weekday)\n",
    "- rides: Column 3. Total number of riders (integer)\n",
    "\n",
    "The `rides` column records the total number of people who boarded a\n",
    "bus on that route on a given day. Thus, from the example, 7354 people\n",
    "rode the number 3 bus on January 1, 2001."
   ]
  },
  {
   "cell_type": "markdown",
   "metadata": {},
   "source": [
    "\n",
    "#### (b) Basic memory use of text\n",
    "\n",
    "Let's get a baseline of the memory required to work with this\n",
    "datafile.  First, restart Python and try a very simple experiment of\n",
    "simply grabbing the file and storing its data in a single string:\n",
    "\n",
    "```python\n",
    ">>> # --- RESTART \n",
    ">>> import tracemalloc\n",
    ">>> f = open('Data/ctabus.csv')\n",
    ">>> tracemalloc.start()\n",
    ">>> data = f.read()\n",
    ">>> len(data)\n",
    "12361039\n",
    ">>> current, peak = tracemalloc.get_traced_memory()\n",
    ">>> current\n",
    "12369664\n",
    ">>> peak\n",
    "24730766\n",
    ">>> \n",
    "```\n",
    "\n",
    "Your results might vary somewhat, but you should see current\n",
    "memory use in the range of 12MB with a peak of 24MB.\n",
    "\n",
    "What happens if you read the entire file into a list of strings\n",
    "instead?  Restart Python and try this:\n",
    "\n",
    "```python\n",
    ">>> # --- RESTART\n",
    ">>> import tracemalloc\n",
    ">>> f = open('Data/ctabus.csv')\n",
    ">>> tracemalloc.start()\n",
    ">>> lines = f.readlines()\n",
    ">>> len(lines)\n",
    "577564\n",
    ">>> current, peak = tracemalloc.get_traced_memory()\n",
    ">>> current\n",
    "45828030\n",
    ">>> peak\n",
    "45867371\n",
    ">>> \n",
    "```\n",
    "\n",
    "You should see the memory use go up significantly into the range of 40-50MB.\n",
    "Point to ponder: what might be the source of that extra overhead?"
   ]
  },
  {
   "cell_type": "markdown",
   "metadata": {},
   "source": [
    "#### (c) A List of Tuples\n",
    "\n",
    "In practice, you might read the data into a list and convert each line\n",
    "into some other data structure.  Here is a program `readrides.py` that\n",
    "reads the entire file into a list of tuples using the `csv` module:\n",
    "\n",
    "```python\n",
    "# readrides.py\n",
    "\n",
    "import csv\n",
    "\n",
    "def read_rides_as_tuples(filename):\n",
    "    '''\n",
    "    Read the bus ride data as a list of tuples\n",
    "    '''\n",
    "    records = []\n",
    "    with open(filename) as f:\n",
    "        rows = csv.reader(f)\n",
    "        headings = next(rows)     # Skip headers\n",
    "        for row in rows:\n",
    "            route = row[0]\n",
    "            date = row[1]\n",
    "            daytype = row[2]\n",
    "            rides = int(row[3])\n",
    "            record = (route, date, daytype, rides)\n",
    "            records.append(record)\n",
    "    return records\n",
    "\n",
    "if __name__ == '__main__':\n",
    "    import tracemalloc\n",
    "    tracemalloc.start()\n",
    "    rows = read_rides_as_tuples('Data/ctabus.csv')\n",
    "    print('Memory Use: Current %d, Peak %d' % tracemalloc.get_traced_memory())\n",
    "```\n",
    "\n",
    "Run this program using `python3 -i readrides.py` and look at the\n",
    "resulting contents of `rows`. You should get a list of tuples like\n",
    "this:\n",
    "\n",
    "```python\n",
    ">>> len(rows)\n",
    "577563\n",
    ">>> rows[0]\n",
    "('3', '01/01/2001', 'U', 7354)\n",
    ">>> rows[1]\n",
    "('4', '01/01/2001', 'U', 9288)\n",
    "```\n",
    "\n",
    "Look at the resulting memory use. It should be substantially higher\n",
    "than in part (b).\n",
    "\n"
   ]
  },
  {
   "cell_type": "markdown",
   "metadata": {},
   "source": [
    "#### (d) Memory Use of Other Data Structures\n",
    "\n",
    "Python has many different choices for representing data structures.\n",
    "For example:\n",
    "\n",
    "```python\n",
    "# A tuple\n",
    "row = (route, date, daytype, rides)\n",
    "\n",
    "# A dictionary\n",
    "row = {\n",
    "    'route': route,\n",
    "    'date': date,\n",
    "    'daytype': daytype,\n",
    "    'rides': rides,\n",
    "}\n",
    "\n",
    "# A class\n",
    "class Row:\n",
    "    def __init__(self, route, date, daytype, rides):\n",
    "        self.route = route\n",
    "        self.date = date\n",
    "        self.daytype = daytype\n",
    "        self.rides = rides\n",
    "\n",
    "# A named tuple\n",
    "from collections import namedtuple\n",
    "Row = namedtuple('Row', ['route', 'date', 'daytype', 'rides'])\n",
    "\n",
    "# A class with __slots__\n",
    "class Row:\n",
    "    __slots__ = ['route', 'date', 'daytype', 'rides']\n",
    "    def __init__(self, route, date, daytype, rides):\n",
    "        self.route = route\n",
    "        self.date = date\n",
    "        self.daytype = daytype\n",
    "        self.rides = rides\n",
    "```\n",
    "Your task is as follows:  Create different versions of the `read_rides()` function\n",
    "that use each of these data structures to represent a single row of data.\n",
    "Then, find out the resulting memory use of each option.   Find out which\n",
    "approach offers the most efficient storage if you were working with a lot \n",
    "of data all at once."
   ]
  },
  {
   "cell_type": "markdown",
   "metadata": {},
   "source": [
    "# Containers and Collections"
   ]
  },
  {
   "cell_type": "markdown",
   "metadata": {},
   "source": []
  },
  {
   "cell_type": "markdown",
   "metadata": {},
   "source": [
    "# Iteration"
   ]
  },
  {
   "cell_type": "markdown",
   "metadata": {},
   "source": [
    "# Understanding the builtins"
   ]
  },
  {
   "cell_type": "markdown",
   "metadata": {},
   "source": [
    "# Object Model"
   ]
  }
 ],
 "metadata": {
  "kernelspec": {
   "display_name": "venv",
   "language": "python",
   "name": "python3"
  },
  "language_info": {
   "codemirror_mode": {
    "name": "ipython",
    "version": 3
   },
   "file_extension": ".py",
   "mimetype": "text/x-python",
   "name": "python",
   "nbconvert_exporter": "python",
   "pygments_lexer": "ipython3",
   "version": "3.12.3"
  }
 },
 "nbformat": 4,
 "nbformat_minor": 2
}
