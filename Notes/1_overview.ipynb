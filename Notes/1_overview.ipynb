{
 "cells": [
  {
   "cell_type": "markdown",
   "metadata": {},
   "source": [
    "# 1. Overview"
   ]
  },
  {
   "cell_type": "code",
   "execution_count": 2,
   "metadata": {},
   "outputs": [
    {
     "name": "stdout",
     "output_type": "stream",
     "text": [
      "Python version :  3.12.3 (tags/v3.12.3:f6650f9, Apr  9 2024, 14:05:25) [MSC v.1938 64 bit (AMD64)]\n"
     ]
    }
   ],
   "source": [
    "import sys\n",
    "print(\"Python version : \",sys.version)"
   ]
  },
  {
   "cell_type": "markdown",
   "metadata": {},
   "source": [
    "Running python :\n",
    "`python3 filename.py`\n",
    "\n",
    "Runing with debugging:\n",
    "`python33 -i filename.py`\n"
   ]
  },
  {
   "cell_type": "markdown",
   "metadata": {},
   "source": [
    "## Executing python program"
   ]
  },
  {
   "cell_type": "markdown",
   "metadata": {},
   "source": [
    "### Exercise 1.1\n",
    "\n",
    "*Objectives:*\n",
    "\n",
    "- Make sure Python is installed correctly on your machine\n",
    "- Start the interactive interpreter\n",
    "- Edit and run a small program\n",
    "\n",
    "*Files Created:* `art.py`\n",
    "\n",
    "### (a) Launch Python\n",
    "\n",
    "Start Python3 on your machine.  Make sure you can type simple\n",
    "statements such as the \"hello world\" program:\n",
    "\n",
    "```python\n",
    ">>> print('Hello World')\n",
    "Hello World\n",
    ">>>\n",
    "```\n",
    "\n",
    "In much of this course, you'll want to make sure you can work from\n",
    "the interactive REPL like this.   If you're working from a different\n",
    "environment such as IPython or Jupyter Notebooks, that's fine.\n",
    "\n",
    "### (b) Some Generative Art\n",
    "\n",
    "Create the following program and put it in a file called `art.py`:\n",
    "\n",
    "```python\n",
    "# art.py\n",
    "\n",
    "import sys\n",
    "import random\n",
    "\n",
    "chars = '\\|/'\n",
    "\n",
    "def draw(rows, columns):\n",
    "    for r in rows:\n",
    "        print(''.join(random.choice(chars) for _ in range(columns)))\n",
    "\n",
    "if __name__ == '__main__':\n",
    "    if len(sys.argv) != 3:\n",
    "        raise SystemExit(\"Usage: art.py rows columns\")\n",
    "    draw(int(sys.argv[1]), int(sys.argv[2]))\n",
    "```\n",
    "\n",
    "Make sure you can run this program from the command line or a terminal.\n",
    "\n",
    "```bash \n",
    "% python3 art.py 10 20\n",
    "```\n",
    "\n",
    "If you run the above command, you'll get a crash and traceback message.\n",
    "Go fix the problem and run the program again.  You should get output like\n",
    "this:\n",
    "\n",
    "```bash \n",
    "% python3 art.py 10 20\n",
    "||||/\\||//\\//\\|||\\|\\\n",
    "///||\\/||\\//|\\\\|\\\\/\\\n",
    "|\\////|//|||\\//|/\\||\n",
    "|//\\||\\/|\\///|\\|\\|/|\n",
    "|/|//|/|/|\\\\/\\/\\||//\n",
    "|\\/\\|\\//\\\\//\\|\\||\\\\/\n",
    "|||\\\\\\\\/\\\\\\|/||||\\/|\n",
    "\\\\||\\\\\\|\\||||////\\\\|\n",
    "//\\//|/|\\\\|\\//\\|||\\/\n",
    "\\\\\\|/\\\\|/|\\\\\\|/|/\\/|\n",
    "bash %\n",
    "```\n",
    "\n",
    "#### Important Note\n",
    "\n",
    "It is absolutely essential that you are able to edit, run, and debug\n",
    "ordinary Python programs for the rest of this course.  The choice\n",
    "of editor, IDE, or operating system doesn't matter as long as you\n",
    "are able to experiment interactively and create normal Python source\n",
    "files that can execute from the command line.\n",
    "\n",
    "----\n",
    "`>>>` Advanced Python Mastery  \n",
    "`...` A course by [dabeaz](https://www.dabeaz.com)  \n",
    "`...` Copyright 2007-2023  \n",
    "\n",
    "![](https://i.creativecommons.org/l/by-sa/4.0/88x31.png). This work is licensed under a [Creative Commons Attribution-ShareAlike 4.0 International License](http://creativecommons.org/licenses/by-sa/4.0/)"
   ]
  },
  {
   "cell_type": "markdown",
   "metadata": {},
   "source": [
    "#### Solution"
   ]
  },
  {
   "cell_type": "code",
   "execution_count": null,
   "metadata": {},
   "outputs": [],
   "source": [
    "import sys\n",
    "import random\n",
    "\n",
    "chars = '|/=!'\n",
    "\n",
    "def draw(rows, columns):\n",
    "    for _ in range(rows):\n",
    "        print(''.join(random.choice(chars) for _ in range(columns)))\n",
    "\n",
    "if __name__ == '__main__':\n",
    "    if len(sys.argv) != 3:\n",
    "        raise SystemExit(\"Usage: art.py rows columns\")\n",
    "    draw(int(sys.argv[1]), int(sys.argv[2]))"
   ]
  },
  {
   "cell_type": "markdown",
   "metadata": {},
   "source": [
    "## Components"
   ]
  },
  {
   "cell_type": "markdown",
   "metadata": {},
   "source": [
    "### Comments\n",
    "* `#` is comment\n",
    "* `''' This is stringy comment'''` useful in debugging but not a proper comment\n",
    "### Variables\n",
    "* Same rules in as `C` language\n",
    "* No declaration of types \n",
    "* Variable name also accepts unicode letters *avoid it*\n",
    "### Naming Conventions\n",
    "* `Snake case` for multiple words - eg : `first_name`\n",
    "* For `private` names - eg : `_private_variable`\n",
    "### Expression\n",
    "* Python specific operators\n",
    "    * Truncating division - `//`\n",
    "    * Power operator - `**`\n",
    "### Conditionals\n",
    "* If\n",
    "* If-Elif-Else\n",
    "### Looping\n",
    "* While\n",
    "* For \n",
    "### Formatted Printing\n",
    "* f-string : `print(f'{name:>10s}')`\n",
    "* .format() method : `print('{:10d}'.format(shares))\n",
    "* % operator : `print('%10s %10d' % (names,shares,price))"
   ]
  },
  {
   "cell_type": "markdown",
   "metadata": {},
   "source": [
    "## Core Python Objects"
   ]
  },
  {
   "cell_type": "markdown",
   "metadata": {},
   "source": [
    "\n",
    "* Nothing - `None`\n",
    "* Boolean - `True`\n",
    "* Integer - `5`  \n",
    "* Float - `2.3`\n",
    "* Complex - `2+3j`\n",
    "* String - `Word`\n",
    "* Byte String - `b'Hello'`\n",
    "* Tuple - `(1,True,None,'hello')`\n",
    "* List - `[1,2,3,4]`\n",
    "* Dictionary - `{'web' : 'WWW', 'words' : {'urls' : [...], ...}}`"
   ]
  },
  {
   "cell_type": "markdown",
   "metadata": {},
   "source": [
    "### Exercise 1.2\n",
    "\n",
    "*Objectives:*\n",
    "\n",
    "- Manipulate various built-in Python objects\n",
    "\n",
    "*Files Created:* None\n"
   ]
  },
  {
   "cell_type": "markdown",
   "metadata": {},
   "source": [
    "#### Part 1 : Numbers"
   ]
  },
  {
   "cell_type": "markdown",
   "metadata": {},
   "source": [
    "\n",
    "\n",
    "Numerical calculations work about like you would expect in Python.\n",
    "For example:\n",
    "\n",
    "```python\n",
    ">>> 3 + 4*5\n",
    "23\n",
    ">>> 23.45 / 1e-02\n",
    "2345.0\n",
    ">>>\n",
    "```\n",
    "\n",
    "Be aware that integer division is different in Python 2 and Python 3. \n",
    "\n",
    "```python\n",
    ">>> 7 / 4      # In python 2, this truncates to 1\n",
    "1.75           \n",
    ">>> 7 // 4     # Truncating division\n",
    "1 \n",
    ">>> \n",
    "```\n",
    "\n",
    "If you want Python 3 behavior in Python 2, do this:\n",
    "\n",
    "```python\n",
    ">>> from __future__ import division\n",
    ">>> 7 / 4\n",
    "1.75\n",
    ">>> 7 // 4      # Truncating division\n",
    "1\n",
    ">>>\n",
    "```\n",
    "\n",
    "Numbers have a small set of methods, many of which are actually quite\n",
    "recent and overlooked by even experienced Python programmers.  Try some of them.\n",
    "\n",
    "```python\n",
    ">>> x = 1172.5\n",
    ">>> x.as_integer_ratio()\n",
    "(2345, 2)\n",
    ">>> x.is_integer()\n",
    "False\n",
    ">>> y = 12345\n",
    ">>> y.numerator\n",
    "12345\n",
    ">>> y.denominator\n",
    "1\n",
    ">>> y.bit_length()\n",
    "14\n",
    ">>> \n",
    "```"
   ]
  },
  {
   "cell_type": "markdown",
   "metadata": {},
   "source": [
    "#### Part 2 : String Manipulation"
   ]
  },
  {
   "cell_type": "markdown",
   "metadata": {},
   "source": [
    "Define a string containing a series of stock ticker symbols like this:\n",
    "\n",
    "```python\n",
    ">>> symbols = 'AAPL IBM MSFT YHOO SCO'\n",
    "```\n",
    "\n",
    "Now, let's experiment with different string operations:"
   ]
  },
  {
   "cell_type": "markdown",
   "metadata": {},
   "source": [
    "\n",
    "##### (a) Extracting individual characters and substrings\n",
    "\n",
    "Strings are arrays of characters.  Try extracting a few characters:\n",
    "\n",
    "```python\n",
    ">>> symbols[0]\n",
    "'A'\n",
    ">>> symbols[1]\n",
    "'A'\n",
    ">>> symbols[2]\n",
    "'P'\n",
    ">>> symbols[-1]        # Last character\n",
    "'O'\n",
    ">>> symbols[-2]        # 2nd from last character\n",
    "'C'\n",
    ">>>\n",
    "```\n",
    "\n",
    "Try taking a few slices:\n",
    "\n",
    "```python\n",
    ">>> symbols[:4]\n",
    "'AAPL'\n",
    ">>> symbols[-3:]\n",
    "'SCO'\n",
    ">>> symbols[5:8]\n",
    "'IBM'\n",
    ">>>\n",
    "```"
   ]
  },
  {
   "cell_type": "markdown",
   "metadata": {},
   "source": [
    "##### (b) Strings as read-only objects\n",
    "\n",
    "Strings are read-only.   Verify this by trying to change the first character of `symbols` to a lower-case 'a'. \n",
    "\n",
    "```python\n",
    ">>> symbols[0] = 'a'\n",
    "Traceback (most recent call last):\n",
    "  File \"<stdin>\", line 1, in <module>\n",
    "TypeError: 'str' object does not support item assignment\n",
    ">>> \n",
    "```"
   ]
  },
  {
   "cell_type": "markdown",
   "metadata": {},
   "source": [
    "##### (c) String concatenation\n",
    "\n",
    "Although string data is read-only, you can always reassign a variable to a newly created string.   \n",
    "Try the following statement which concatenates a new symbol \"GOOG\" to the end of `symbols`:\n",
    "\n",
    "```python\n",
    ">>> symbols += ' GOOG'             \n",
    ">>> symbols\n",
    "... look at the result ...\n",
    "```\n",
    "\n",
    "Now, try adding \"HPQ\" to the beginning of `symbols` like this:\n",
    "\n",
    "```python\n",
    ">>> symbols = 'HPQ ' + symbols     \n",
    ">>> symbols\n",
    "... look at the result ...\n",
    "```\n",
    "\n",
    "It should be noted in both of these examples, the original string `symbols` is _NOT_\n",
    "being modified \"in place.\"  Instead, a completely new string is created.  The variable name `symbols` is\n",
    "just bound to the result.  Afterwards, the old string is destroyed since it's not being used anymore.\n",
    "\n"
   ]
  },
  {
   "cell_type": "code",
   "execution_count": 2,
   "metadata": {},
   "outputs": [
    {
     "name": "stdout",
     "output_type": "stream",
     "text": [
      "AAPL IBM MSFT YHOO SCO GOOG\n",
      "HPQAAPL IBM MSFT YHOO SCO GOOG\n"
     ]
    }
   ],
   "source": [
    "symbols = 'AAPL IBM MSFT YHOO SCO'\n",
    "symbols += ' GOOG'\n",
    "print(symbols)\n",
    "symbols = 'HPQ' + symbols\n",
    "print(symbols)"
   ]
  },
  {
   "cell_type": "markdown",
   "metadata": {},
   "source": [
    "##### (d) Membership testing (substring testing)\n",
    "\n",
    "Experiment with the `in` operator to check for substrings.  At\n",
    "the interactive prompt, try these operations:\n",
    "\n",
    "```python\n",
    ">>> 'IBM' in symbols\n",
    "True\n",
    ">>> 'AA' in symbols\n",
    "True\n",
    ">>> 'CAT' in symbols\n",
    "False\n",
    ">>>\n",
    "```\n",
    "\n",
    "Make sure you understand why the check for \"AA\" returned `True`."
   ]
  },
  {
   "cell_type": "markdown",
   "metadata": {},
   "source": [
    "Because `AA` is `AAPL` in `symbols` variable"
   ]
  },
  {
   "cell_type": "markdown",
   "metadata": {},
   "source": [
    "##### (e) String Methods\n",
    "\n",
    "At the Python interactive prompt, try experimenting with some of the\n",
    "string methods. \n",
    "\n",
    "```python\n",
    ">>> symbols.lower()\n",
    "'hpq aapl ibm msft yhoo sco goog'\n",
    ">>> symbols       \n",
    "'HPQ AAPL IBM MSFT YHOO SCO GOOG'\n",
    "```\n",
    "\n",
    "Remember, strings are always read-only.  If you want to save the result of an operation, you\n",
    "need to place it in a variable:\n",
    "\n",
    "```python\n",
    ">>> lowersyms = symbols.lower()\n",
    ">>> lowersyms\n",
    "'hpq aapl ibm msft yhoo sco goog'\n",
    ">>>\n",
    "```\n",
    "\n",
    "Try some more operations:\n",
    "\n",
    "```python\n",
    ">>> symbols.find('MSFT')\n",
    "13\n",
    ">>> symbols[13:17]\n",
    "'MSFT'\n",
    ">>> symbols = symbols.replace('SCO','')\n",
    ">>> symbols\n",
    "'HPQ AAPL IBM MSFT YHOO  GOOG'\n",
    ">>>\n",
    "```"
   ]
  },
  {
   "cell_type": "markdown",
   "metadata": {},
   "source": [
    "#### Part 3 : List Manipulation"
   ]
  },
  {
   "cell_type": "markdown",
   "metadata": {},
   "source": [
    "\n",
    "\n",
    "In the first part, you worked with strings containing stock symbols.  For example:\n",
    "\n",
    "```python\n",
    ">>> symbols = 'HPQ AAPL IBM MSFT YHOO  GOOG'\n",
    ">>>\n",
    "```\n",
    "\n",
    "Define the above variable and split it into a list of names using the `split()` operation of strings:\n",
    "\n",
    "```python\n",
    ">>> symlist = symbols.split()\n",
    ">>> symlist\n",
    "['HPQ', 'AAPL', 'IBM', 'MSFT', 'YHOO', 'GOOG' ]\n",
    ">>>\n",
    "```\n"
   ]
  },
  {
   "cell_type": "markdown",
   "metadata": {},
   "source": [
    "##### (a) Extracting and reassigning list elements\n",
    "\n",
    "Lists work like arrays where you can look up and\n",
    "modify elements by numerical index.   Try a few lookups:\n",
    "\n",
    "```python\n",
    ">>> symlist[0]\n",
    "'HPQ'\n",
    ">>> symlist[1]\n",
    "'AAPL'\n",
    ">>> symlist[-1]\n",
    "'GOOG'\n",
    ">>> symlist[-2]\n",
    "'YHOO'\n",
    ">>>\n",
    "```\n",
    "\n",
    "Try reassigning one of the items:\n",
    "\n",
    "```python\n",
    ">>> symlist[2] = 'AIG'\n",
    ">>> symlist\n",
    "['HPQ', 'AAPL', 'AIG', 'MSFT', 'YHOO', 'GOOG' ]\n",
    ">>>\n",
    "```"
   ]
  },
  {
   "cell_type": "markdown",
   "metadata": {},
   "source": [
    "##### (b) Looping over list items\n",
    "\n",
    "The `for` loop works by looping over data in a sequence such as a list.   Check this out\n",
    "by typing the following loop and watching what happens:\n",
    "\n",
    "```python\n",
    ">>> for s in symlist:\n",
    "        print('s =', s)\n",
    "\n",
    "... look at the output ...\n",
    "```"
   ]
  },
  {
   "cell_type": "code",
   "execution_count": 4,
   "metadata": {},
   "outputs": [
    {
     "name": "stdout",
     "output_type": "stream",
     "text": [
      "s = HPQAAPL\ts = IBM\ts = MSFT\ts = YHOO\ts = SCO\ts = GOOG\t"
     ]
    }
   ],
   "source": [
    "symlist = symbols.split()\n",
    "for s in symlist:\n",
    "    print(\"s =\",s, end=\"\\t\")"
   ]
  },
  {
   "cell_type": "markdown",
   "metadata": {},
   "source": [
    "##### (c) Membership tests\n",
    "\n",
    "Use the `in` operator to check if `'AIG'`,`'AA'`, and `'CAT'` are in the list of symbols.\n",
    "\n",
    "```python\n",
    ">>> 'AIG' in symlist\n",
    "True\n",
    ">>> 'AA' in symlist\n",
    "False\n",
    ">>>\n",
    "```"
   ]
  },
  {
   "cell_type": "markdown",
   "metadata": {},
   "source": [
    "\n",
    "##### (d) Appending, inserting, and deleting items\n",
    "\n",
    "Use the `append()` method to add the symbol `'RHT'` to end of `symlist`.  \n",
    "\n",
    "```python\n",
    ">>> symlist.append('RHT')\n",
    ">>> symlist\n",
    "['HPQ', 'AAPL', 'AIG', 'MSFT', 'YHOO', 'GOOG', 'RHT']\n",
    ">>> \n",
    "```\n",
    "\n",
    "Use the `insert()` method to\n",
    "insert the symbol `'AA'` as the second item in the list.\n",
    "\n",
    "```python\n",
    ">>> symlist.insert(1,'AA')\n",
    ">>> symlist\n",
    "['HPQ', 'AA', 'AAPL', 'AIG', 'MSFT', 'YHOO', 'GOOG', 'RHT']\n",
    ">>>\n",
    "```\n",
    "\n",
    "Use the `remove()` method to remove `'MSFT'` from the list. \n",
    "\n",
    "```python\n",
    ">>> symlist.remove('MSFT')\n",
    ">>> symlist\n",
    "['HPQ', 'AA', 'AAPL', 'AIG', 'YHOO', 'GOOG', 'RHT']\n",
    "```\n",
    "\n",
    "Try calling `remove()` again to see what happens if the item can't be found.\n",
    "\n",
    "```python\n",
    ">>> symlist.remove('MSFT')\n",
    "... watch what happens ...\n",
    ">>>\n",
    "```\n",
    "\n",
    "Use the `index()` method to find the position of `'YHOO'` in the list.\n",
    "\n",
    "```python\n",
    ">>> symlist.index('YHOO')\n",
    "4\n",
    ">>> symlist[4]\n",
    "'YHOO'\n",
    ">>>\n",
    "```"
   ]
  },
  {
   "cell_type": "markdown",
   "metadata": {},
   "source": [
    "##### (e) List sorting\n",
    "\n",
    "Want to sort a list?  Use the `sort()` method.  Try it out:\n",
    "\n",
    "```python\n",
    ">>> symlist.sort()\n",
    ">>> symlist\n",
    "['AA', 'AAPL', 'AIG', 'GOOG', 'HPQ', 'RHT', 'YHOO']\n",
    ">>>\n",
    "```\n",
    "\n",
    "Want to sort in reverse?  Try this:\n",
    "\n",
    "```python\n",
    ">>> symlist.sort(reverse=True)\n",
    ">>> symlist\n",
    "['YHOO', 'RHT', 'HPQ', 'GOOG', 'AIG', 'AAPL', 'AA']\n",
    ">>>\n",
    "```\n",
    "\n",
    "Note: Sorting a list modifies its contents \"in-place.\"  That is, the\n",
    "elements of the list are shuffled around, but no new list is created\n",
    "as a result.\n"
   ]
  },
  {
   "cell_type": "markdown",
   "metadata": {},
   "source": [
    "##### (f) Lists of anything\n",
    "\n",
    "Lists can contain any kind of object, including other lists (e.g., nested\n",
    "lists).  Try this out:\n",
    "\n",
    "```python\n",
    ">>> nums = [101,102,103]\n",
    ">>> items = [symlist, nums]\n",
    ">>> items\n",
    "[['YHOO', 'RHT', 'HPQ', 'GOOG', 'AIG', 'AAPL', 'AA'], [101, 102, 103]]\n",
    "```\n",
    "\n",
    "Pay close attention to the above output.  `items` is a list\n",
    "with two elements. Each element is list.\n",
    "\n",
    "Try some nested list lookups:\n",
    "\n",
    "```python\n",
    ">>> items[0]\n",
    "['YHOO', 'RHT', 'HPQ', 'GOOG', 'AIG', 'AAPL', 'AA']\n",
    ">>> items[0][1]\n",
    "'RHT'\n",
    ">>> items[0][1][2]\n",
    "'T'\n",
    ">>> items[1]\n",
    "[101, 102, 103]\n",
    ">>> items[1][1]\n",
    "102\n",
    ">>>\n",
    "```"
   ]
  },
  {
   "cell_type": "markdown",
   "metadata": {},
   "source": [
    "#### Part 4 : Dictionaries\n"
   ]
  },
  {
   "cell_type": "markdown",
   "metadata": {},
   "source": [
    "In last few parts, you've simply worked with stock symbols.   However,\n",
    "suppose you wanted to map stock symbols to other data such as the\n",
    "price?  Use a dictionary:\n",
    "\n",
    "```python\n",
    ">>> prices = { 'IBM': 91.1, 'GOOG': 490.1, 'AAPL':312.23 }\n",
    ">>>\n",
    "```\n",
    "\n",
    "A dictionary maps keys to values.  Here's how to access:\n",
    "\n",
    "```python\n",
    ">>> prices['IBM']\n",
    "91.1\n",
    ">>> prices['IBM'] = 123.45\n",
    ">>> prices['HPQ'] = 26.15\n",
    ">>> prices\n",
    "{'GOOG': 490.1, 'AAPL': 312.23, 'IBM': 123.45, 'HPQ': 26.15}\n",
    ">>>\n",
    "```\n",
    "\n",
    "To get a list of keys, use this:\n",
    "\n",
    "```python\n",
    ">>> list(prices)\n",
    "['GOOG', 'AAPL', 'IBM', 'HPQ']\n",
    ">>>\n",
    "```\n",
    "\n",
    "To delete a value, use `del`\n",
    "\n",
    "```python\n",
    ">>> del prices['AAPL']\n",
    ">>> prices\n",
    "{'GOOG': 490.1, 'IBM': 123.45, 'HPQ': 26.15}\n",
    ">>>\n",
    "```"
   ]
  },
  {
   "cell_type": "markdown",
   "metadata": {},
   "source": [
    "### Exercise 1.3"
   ]
  },
  {
   "cell_type": "markdown",
   "metadata": {},
   "source": [
    "*Objectives:*\n",
    "\n",
    "- Review basic file I/O\n",
    "\n",
    "*Files Created:* `pcost.py`\n",
    "\n",
    "#### (a) Working with files\n",
    "\n",
    "The file `Data/portfolio.dat` contains a list of lines with information\n",
    "on a portfolio of stocks.  The file looks like this:\n",
    "\n",
    "```\n",
    "AA 100 32.20\n",
    "IBM 50 91.10\n",
    "CAT 150 83.44\n",
    "MSFT 200 51.23\n",
    "GE 95 40.37\n",
    "MSFT 50 65.10\n",
    "IBM 100 70.44\n",
    "```\n",
    "\n",
    "The first column is the stock name, the second column is the number of\n",
    "shares, and the third column is the purchase price of a single share. \n",
    "\n",
    "Write a program called `pcost.py` that opens this file, reads\n",
    "all lines, and calculates how much it cost to purchase all of the shares\n",
    "in the portfolio. To do this, compute the sum of the second column\n",
    "multiplied by the third column.\n"
   ]
  },
  {
   "cell_type": "markdown",
   "metadata": {},
   "source": [
    "#### Solution"
   ]
  },
  {
   "cell_type": "code",
   "execution_count": 9,
   "metadata": {},
   "outputs": [
    {
     "name": "stdout",
     "output_type": "stream",
     "text": [
      "44671.15\n"
     ]
    }
   ],
   "source": [
    "file_path = \"learning-python-mastery/Data/portfolio.dat\"\n",
    "total_cost = 0\n",
    "with open(file_path,mode='r') as file:\n",
    "    for line in file:\n",
    "        stock_name,share_count,price = line.split()\n",
    "        total_cost += (float(share_count) * float(price))\n",
    "\n",
    "print(total_cost)"
   ]
  },
  {
   "cell_type": "markdown",
   "metadata": {},
   "source": [
    "## Error Handling"
   ]
  },
  {
   "cell_type": "markdown",
   "metadata": {},
   "source": [
    "### Exercise 1.4\n",
    "\n",
    "*Objectives:*\n",
    "\n",
    "- Review of how to define simple functions\n",
    "- Exception handling\n",
    "\n",
    "*Files Created:* None\n",
    "\n",
    "*Files Modified:* `pcost.py`\n",
    "\n",
    "\n"
   ]
  },
  {
   "cell_type": "markdown",
   "metadata": {},
   "source": [
    "\n",
    "#### (a) Defining a function"
   ]
  },
  {
   "cell_type": "markdown",
   "metadata": {},
   "source": [
    "Take the program `pcost.py` that you wrote in the last exercise and\n",
    "convert it into a function `portfolio_cost(filename)` that takes a\n",
    "filename as input, reads the portfolio data in that file, and returns\n",
    "the total cost of the portfolio as a floating point number. Once you\n",
    "written the function, have your program call the function by simply\n",
    "adding this statement at the end:\n",
    "\n",
    "```python\n",
    "print(portfolio_cost('Data/portfolio.dat'))\n",
    "```\n",
    "\n",
    "Run your program and make sure it produces the same output as\n",
    "before.\n"
   ]
  },
  {
   "cell_type": "markdown",
   "metadata": {},
   "source": [
    "#### Solution"
   ]
  },
  {
   "cell_type": "code",
   "execution_count": 10,
   "metadata": {},
   "outputs": [
    {
     "name": "stdout",
     "output_type": "stream",
     "text": [
      "44671.15\n"
     ]
    }
   ],
   "source": [
    "def portfolio_cost(filename : str) -> float:\n",
    "    total_cost = 0\n",
    "    with open(filename,mode='r') as file:\n",
    "        for line in file:\n",
    "            share_name,share_count,price = line.split()\n",
    "            total_cost += (float(share_count) * float(price))\n",
    "    return total_cost\n",
    "\n",
    "print(portfolio_cost(\"learning-python-mastery/Data/portfolio.dat\"))"
   ]
  },
  {
   "cell_type": "markdown",
   "metadata": {},
   "source": [
    "#### (b) Adding Error Handling"
   ]
  },
  {
   "cell_type": "markdown",
   "metadata": {},
   "source": [
    "\n",
    "When writing programs that process data, it is common to encounter\n",
    "errors related to bad data (malformed, missing fields, etc.).  Modify\n",
    "your `pcost.py` program to read the data file `Data/portfolio3.dat`\n",
    "and run it (hint: it should crash).\n",
    "\n",
    "Modify your function slightly so that it is able to recover from lines\n",
    "with bad data.  For example, the conversion functions `int()` and\n",
    "`float()` raise a `ValueError` exception if they can't convert the\n",
    "input.  Use `try` and `except` to catch and print a warning message\n",
    "about lines that can't be parsed.  For example:\n",
    "\n",
    "```\n",
    "Couldn't parse: 'C - 53.08\\n'\n",
    "Reason: invalid literal for int() with base 10: '-'\n",
    "Couldn't parse: 'DIS - 34.20\\n'\n",
    "Reason: invalid literal for int() with base 10: '-'\n",
    "...\n",
    "```\n",
    "\n",
    "Try running your program on the `Data/portfolio3.dat` file\n",
    "again.   It should run successfully despite printed warning messages."
   ]
  },
  {
   "cell_type": "markdown",
   "metadata": {},
   "source": [
    "#### Solution"
   ]
  },
  {
   "cell_type": "code",
   "execution_count": 14,
   "metadata": {},
   "outputs": [
    {
     "name": "stdout",
     "output_type": "stream",
     "text": [
      "could not convert string to float: '-'\n",
      "could not convert string to float: '-'\n",
      "could not convert string to float: '-'\n",
      "could not convert string to float: '-'\n",
      "could not convert string to float: '-'\n",
      "could not convert string to float: '-'\n",
      "could not convert string to float: '-'\n",
      "could not convert string to float: '-'\n",
      "12597.479999999998\n"
     ]
    }
   ],
   "source": [
    "def portfolio_cost(filename : str) -> float:\n",
    "    total_cost = 0\n",
    "    with open(filename,mode='r') as file:\n",
    "        for line in file:\n",
    "            share_name,share_count,price = line.split()\n",
    "            try:\n",
    "                total_cost += (float(share_count) * float(price))\n",
    "            except Exception as e:\n",
    "                print(e)\n",
    "    return total_cost\n",
    "\n",
    "print(portfolio_cost(\"learning-python-mastery/Data/portfolio3.dat\"))"
   ]
  },
  {
   "cell_type": "markdown",
   "metadata": {},
   "source": [
    "#### (c) Interactive Experimentation"
   ]
  },
  {
   "cell_type": "markdown",
   "metadata": {},
   "source": [
    "\n",
    "Run your `pcost.py` program and call the\n",
    "`portfolio_cost()` function directly from the interactive\n",
    "interpreter.\n",
    "\n",
    "```python\n",
    ">>> portfolio_cost('Data/portfolio.dat')\n",
    "44671.15\n",
    ">>> portfolio_cost('Data/portfolio2.dat')\n",
    "19908.75\n",
    ">>>\n",
    "```\n",
    "\n",
    "Note: To do this, you might have to run python using the `-i`\n",
    "option.  For example:\n",
    "\n",
    "```\n",
    "bash % python3 -i pcost.py\n",
    "```\n",
    "\n",
    "We are going to be writing a lot of programs where you define\n",
    "functions and experiment interactively.  Make sure you know how to do\n",
    "this."
   ]
  },
  {
   "cell_type": "markdown",
   "metadata": {},
   "source": [
    "## Class and Objects"
   ]
  },
  {
   "cell_type": "markdown",
   "metadata": {},
   "source": [
    "### Exercise 1.5"
   ]
  },
  {
   "cell_type": "markdown",
   "metadata": {},
   "source": [
    "*Objectives:*\n",
    "\n",
    "- Review of how to define a simple object\n",
    "\n",
    "*Files Created:* `stock.py`\n",
    "\n",
    "#### (a) Defining a simple object\n",
    "\n",
    "Create a file `stock.py` and define the following class:\n",
    "\n",
    "```python\n",
    "class Stock:\n",
    "    def __init__(self, name, shares, price):\n",
    "        self.name = name\n",
    "        self.shares = shares\n",
    "        self.price = price\n",
    "    def cost(self):\n",
    "        return self.shares * self.price\n",
    "```\n",
    "\n",
    "Once you have done this, run your program and experiment with your new\n",
    "`Stock` object:\n",
    "\n",
    "```python\n",
    ">>> s = Stock('GOOG',100,490.10)\n",
    ">>> s.name\n",
    "'GOOG'\n",
    ">>> s.shares\n",
    "100\n",
    ">>> s.price\n",
    "490.1\n",
    ">>> s.cost()\n",
    "49010.0\n",
    ">>> print('%10s %10d %10.2f' % (s.name, s.shares, s.price))\n",
    "      GOOG        100     490.10\n",
    ">>> t = Stock('IBM', 50, 91.5)\n",
    ">>> t.cost()\n",
    "4575.0\n",
    ">>> \n",
    "```\n"
   ]
  },
  {
   "cell_type": "code",
   "execution_count": 15,
   "metadata": {},
   "outputs": [
    {
     "name": "stdout",
     "output_type": "stream",
     "text": [
      "GOOG\n",
      "100\n",
      "490.1\n",
      "49010.0\n"
     ]
    }
   ],
   "source": [
    "class Stock:\n",
    "    def __init__(self,name,share,price):\n",
    "        self.name = name\n",
    "        self.share = share\n",
    "        self.price = price\n",
    "\n",
    "    def cost(self):\n",
    "        return self.share * self.price\n",
    "    \n",
    "s = Stock(\"GOOG\",100,490.1)\n",
    "\n",
    "print(s.name)\n",
    "print(s.share)\n",
    "print(s.price)\n",
    "print(s.cost())"
   ]
  }
 ],
 "metadata": {
  "kernelspec": {
   "display_name": "venv",
   "language": "python",
   "name": "python3"
  },
  "language_info": {
   "codemirror_mode": {
    "name": "ipython",
    "version": 3
   },
   "file_extension": ".py",
   "mimetype": "text/x-python",
   "name": "python",
   "nbconvert_exporter": "python",
   "pygments_lexer": "ipython3",
   "version": "3.12.3"
  }
 },
 "nbformat": 4,
 "nbformat_minor": 2
}
